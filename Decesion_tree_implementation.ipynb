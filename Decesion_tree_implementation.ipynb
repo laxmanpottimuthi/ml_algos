{
 "cells": [
  {
   "cell_type": "code",
   "execution_count": 2,
   "metadata": {},
   "outputs": [],
   "source": [
    "import numpy as np\n",
    "import random,sys\n",
    "from collections import defaultdict\n",
    "import copy\n",
    "from matplotlib import pyplot as plt\n",
    "import collections\n",
    "class Node(object):\n",
    "    def __init__(self):\n",
    "        self.value = None\n",
    "        self.right = None\n",
    "        self.left = None\n",
    "        self.leaf = False\n",
    "        self.leaf_list = None"
   ]
  },
  {
   "cell_type": "code",
   "execution_count": 31,
   "metadata": {},
   "outputs": [],
   "source": [
    "import pandas as pd"
   ]
  },
  {
   "cell_type": "markdown",
   "metadata": {},
   "source": [
    "1. Generating Decision Trees"
   ]
  },
  {
   "cell_type": "markdown",
   "metadata": {},
   "source": [
    "\n",
    "Question 1.1 For a given value of k;m, (number of features, number of data points), write a function to generate a training data set based on the above scheme.\n"
   ]
  },
  {
   "cell_type": "code",
   "execution_count": 5,
   "metadata": {},
   "outputs": [],
   "source": [
    "#Generate randomly the value of x0 with equal probability\n",
    "def get_x1():\n",
    "    return np.random.choice(np.arange(0,2), p=[0.5, 0.5])\n",
    "\n",
    "def get_x(x):\n",
    "    return np.random.choice(np.array([x,1-x]), p=[0.75, 0.25])\n",
    "\n",
    "def get_w(i,k):\n",
    "    return (0.9**i)/sum([0.9**j for j in range(2,k+1)])\n",
    "\n",
    "def get_wvalues(k):\n",
    "    return [ get_w(i,k) for i in range(2,k+1) ]\n",
    "\n",
    "#create dataset of x values given k\n",
    "def get_xvalues(k):\n",
    "    x_values = np.empty(k,dtype=int)\n",
    "    x1 = get_x1()\n",
    "    x_values[0] = x1\n",
    "    for i in range(1,k):\n",
    "        x_values[i] = get_x(x_values[i-1])\n",
    "    return x_values\n",
    "\n",
    "#Getting the value of y based on x_values for a given k\n",
    "def get_y(k): \n",
    "    x_values = get_xvalues(k)\n",
    "    w_values = [0] + get_wvalues(k)\n",
    "    if sum([x*w for x,w in zip(x_values,w_values)]) >= 0.5:\n",
    "        return x_values[0], x_values\n",
    "    else:\n",
    "        return 1-x_values[0], x_values\n",
    "\n",
    "#data set structure List(List(features+label)). Note: label is last element of the row. \n",
    "def create_training_data(k,m):\n",
    "    y_values = []\n",
    "    mat = np.empty([m,k+1],dtype=int)\n",
    "    for i in range(0,m):\n",
    "        y,x_val = get_y(k)\n",
    "        y_values.append(y) \n",
    "        mat[i,:] = np.append(x_val,y)\n",
    "    return mat, y_values\n",
    "\n",
    "#finding majority element in the list\n",
    "def majority_ele(l):\n",
    "    for i,c in collections.Counter(l).most_common(1):\n",
    "        return i"
   ]
  },
  {
   "cell_type": "code",
   "execution_count": 7,
   "metadata": {},
   "outputs": [],
   "source": []
  },
  {
   "cell_type": "code",
   "execution_count": 8,
   "metadata": {},
   "outputs": [],
   "source": [
    "# Question1.2\n",
    "\n",
    "\"\"\"\n",
    "Frequency distribution of values in a given array\n",
    "\"\"\"\n",
    "def get_freq_dist(array):\n",
    "    #sum of array gives number of rows with label x = 1\n",
    "    freq_of_one_1 = sum(array) / len(array) #gives probability of x = 1\n",
    "    freq_of_one = freq_of_one_1 if freq_of_one_1 != 0 else np.finfo(float).eps\n",
    "    freq_of_zero = 1 - freq_of_one       \n",
    "    return freq_of_one, freq_of_zero\n",
    "\n",
    "\n",
    "\"\"\"\n",
    "Calculating conditional probabilities. Eg: P(y=0|x=1)\n",
    "Output: Dictionary of combinations of x and y with frequency\n",
    "\"\"\"\n",
    "def cond_prob(column,data):\n",
    "    col = data[:,column]\n",
    "    labels = data[:,-1]\n",
    "    freq_pair = defaultdict(int)\n",
    "    len_data = len(col)\n",
    "    freq_one, freq_zero = sum(col), len_data -sum(col)\n",
    "    for c,l in zip(col,labels):\n",
    "        if c == 0:\n",
    "            if freq_zero == 0: #to handle if none of the x value os equal to 0\n",
    "                    freq_pair[(c,l)] += np.finfo(float).eps\n",
    "            else:\n",
    "                freq_pair[(c,l)] += 1/freq_zero\n",
    "        else:\n",
    "            if freq_one == 0: #to handle if none of the x value os equal to 0\n",
    "                    freq_pair[(c,l)] += np.finfo(float).eps\n",
    "            else:\n",
    "                freq_pair[(c,l)] += 1/freq_one\n",
    "    tot_labels = [(1,1),(1,0),(0,0),(0,1)]\n",
    "    for key in tot_labels: #if key is missing, add a episilon value\n",
    "        if key not in freq_pair.keys():\n",
    "            freq_pair[key] = np.finfo(float).eps\n",
    "    return freq_pair\n",
    "\n",
    "\"\"\"\n",
    "Calculating entroy of y\n",
    "\"\"\"\n",
    "def entropy_y(y_values):\n",
    "    freq_of_one, freq_of_zero = get_freq_dist(y_values)\n",
    "    return -freq_of_one*np.log2(freq_of_one)-freq_of_zero*np.log2(freq_of_zero)\n",
    "\n",
    "\n",
    "\"\"\"\n",
    "Calculating information gain for a feature given its labels.\n",
    "Input: Training data, labels, feature vector\n",
    "Output: index of the feature vector which has maximum information gain\n",
    "\"\"\"\n",
    "def calc_IG(data,y_values,feature_vec):\n",
    "    entropy_y_all = entropy_y(y_values)\n",
    "    y_freq_of_one, y_freq_of_zero = get_freq_dist(y_values)\n",
    "    IG_for_x = []\n",
    "    \n",
    "    for i in range(0,len(feature_vec)):\n",
    "        freq_of_one, freq_of_zero = get_freq_dist(data[:,i])\n",
    "        freq_pair = cond_prob(i,data)\n",
    "        x_0_y_0,x_0_y_1 = freq_pair[(0,0)],freq_pair[(0,1)]\n",
    "        x_1_y_0,x_1_y_1 = freq_pair[(1,0)],freq_pair[(1,1)]\n",
    "        ent_x_one  = -x_1_y_1*np.log2(x_1_y_1)-x_1_y_0*np.log2(x_1_y_0)\n",
    "        ent_x_zero = -x_0_y_1*np.log2(x_0_y_1)-x_0_y_0*np.log2(x_0_y_0)\n",
    "        entroy_y_x = freq_of_zero*ent_x_zero + freq_of_one*ent_x_one\n",
    "        IG_for_x.append(entropy_y_all - entroy_y_x)\n",
    "    max_ig_x = np.argmax(IG_for_x)\n",
    "    return max_ig_x, IG_for_x[max_ig_x]\n"
   ]
  },
  {
   "cell_type": "code",
   "execution_count": null,
   "metadata": {},
   "outputs": [],
   "source": []
  },
  {
   "cell_type": "code",
   "execution_count": 9,
   "metadata": {},
   "outputs": [],
   "source": [
    "\"\"\"\n",
    "Creation of decision tree. Metric used to decide the featre for splitting is Information gain.\n",
    "Input:Training data, labels, feature vector\n",
    "Output: Decision tree node. Class node is defined at the start.\n",
    "\"\"\"\n",
    "def decision_tree(data_set, labels, feature_vec):\n",
    "    root = Node()\n",
    "    flag = 0\n",
    "    if len(list(set(labels))) == 1:\n",
    "        flag = 1\n",
    "        root.val = labels[0]\n",
    "        root.leaf = True\n",
    "        return root\n",
    "    \n",
    "    #Feature on which splitting will be done\n",
    "    max_ig_ind, maxGain = calc_IG(data_set,labels,feature_vec)\n",
    "    #  print(\"decision tree is splitting on feature\",feature_vec[max_ig_ind])\n",
    "    \n",
    "    #Setting the value to root which has maximum information gain\n",
    "    root.val = feature_vec[max_ig_ind]\n",
    "    new_feature_vec = feature_vec[:max_ig_ind] + feature_vec[max_ig_ind+1:]\n",
    "    \n",
    "    #Splitting the the label value of choose feature.\n",
    "    data_right,data_left = data_set[data_set[:,max_ig_ind] !=0],data_set[data_set[:,max_ig_ind] ==0]\n",
    "    data_right,data_left = np.delete(data_right,max_ig_ind,1),np.delete(data_left,max_ig_ind,1)\n",
    "    labels_right,labels_left = data_right[:,-1],data_left[:,-1]\n",
    "\n",
    "    # recursively calling the left and right split to create the decision tree\n",
    "    if len(list(set(labels))) != 1: \n",
    "        flag = 1\n",
    "        new_feature_vec_right = copy.deepcopy(new_feature_vec)\n",
    "        new_feature_vec_left = copy.deepcopy(new_feature_vec)\n",
    "        if len(data_right):\n",
    "            root.right = decision_tree(data_right,labels_right,new_feature_vec_right)\n",
    "        if len(data_left):\n",
    "            root.left = decision_tree(data_left,labels_left,new_feature_vec_left)\n",
    "    return root\n",
    "  "
   ]
  },
  {
   "cell_type": "code",
   "execution_count": 10,
   "metadata": {},
   "outputs": [],
   "source": [
    "\"\"\"\n",
    "Print the decision tree based on level order traversal. \n",
    "Input: Root decision tree node\n",
    "Output: List with the data structure [ [ level, node value, parent, if it is root node or nor] ]\n",
    "\"\"\"\n",
    "def print_decision_tree(n):\n",
    "    res = []\n",
    "    queue = []\n",
    "    #each level order traversal node is set as (level_of tree, node_val/feature,parent,if its leaf node)\n",
    "    queue.append((-1, n, None, False))\n",
    "    while len(queue) >0:\n",
    "        level = []\n",
    "        for i in range(len(queue)):    \n",
    "            h,n,par,leaf = queue.pop(0)\n",
    "            level.append((h+1,n.val,par,n.leaf))\n",
    "            if n.left:\n",
    "                queue.append((h+1, n.left,n.val,n.leaf))\n",
    "            if n.right:\n",
    "                queue.append((h+1, n.right,n.val,n.leaf))\n",
    "        res.append(level)\n",
    "    return res"
   ]
  },
  {
   "cell_type": "code",
   "execution_count": null,
   "metadata": {},
   "outputs": [],
   "source": []
  },
  {
   "cell_type": "code",
   "execution_count": 160,
   "metadata": {},
   "outputs": [],
   "source": [
    "def get_accuracy(org_dec,pred_dec):\n",
    "    correct = 0\n",
    "    for o,p in zip(org_dec,pred_dec):\n",
    "        if o == p:\n",
    "            correct += 1\n",
    "    return correct/len(org_dec)\n",
    "\n",
    "def get_error(org_dec,pred_dec):\n",
    "    wrong = 0\n",
    "    for o,p in zip(org_dec,pred_dec):\n",
    "        if o != p:\n",
    "            wrong += 1\n",
    "    return wrong/len(org_dec)\n",
    "\n",
    "def get_train_error(data_set,node):\n",
    "    m = len(data_set)\n",
    "    predicted_labels = []\n",
    "    for r in range(0,m):\n",
    "        predicted_labels.append(find_decision(data_set[r],node))\n",
    "\n",
    "    return get_error(labels,predicted_labels)\n",
    "\n",
    "#Generating data miultiple times and getting average error for \"i\" iterations\n",
    "def avg_error(i,node_org,k=0):\n",
    "    error = []\n",
    "    iterations =  i\n",
    "    m_list = []\n",
    "    while i:\n",
    "        node = copy.deepcopy(node_org)\n",
    "        m=random.randint(10,100)\n",
    "        if k ==0:\n",
    "            k = random.randint(2,int(m/4))\n",
    "        data_set, labels = create_training_data(k,m)\n",
    "        # print('data set generated is the following: \\n',data_set)\n",
    "        predicted_labels = []\n",
    "        for r in range(0,m):\n",
    "#             print(len(data_set[0]))\n",
    "            predicted_labels.append(find_decision(data_set[r],node))\n",
    "        \n",
    "        error.append(get_error(labels,predicted_labels))\n",
    "        m_list.append(m)\n",
    "        i -= 1\n",
    "    return sum(error)/iterations, error, m_list\n",
    "\n",
    "\n",
    "#row is the feature vector and node is root of decision tree\n",
    "def find_decision(row,node):\n",
    "    if node.leaf == True:\n",
    "        return node.val\n",
    "    while node.leaf != True:\n",
    "        feature = node.val\n",
    "        if row[feature] == 0:\n",
    "            if node.left == None:\n",
    "                return node.val\n",
    "            node = node.left\n",
    "        else:\n",
    "            if node.right == None:\n",
    "                return node.val\n",
    "            node = node.right\n",
    "    return node.val"
   ]
  },
  {
   "cell_type": "code",
   "execution_count": null,
   "metadata": {},
   "outputs": [],
   "source": []
  },
  {
   "cell_type": "markdown",
   "metadata": {},
   "source": [
    "Question 1. 2:\n",
    "funtion decision_tree () will generate the decision tree. \n",
    "to print the decision tree, use function print_dec_tree with the parameters as first node.\n",
    "\n",
    "Training error for this decision tree will be 0 since we are not early terminating it. \n"
   ]
  },
  {
   "cell_type": "code",
   "execution_count": 159,
   "metadata": {},
   "outputs": [
    {
     "name": "stdout",
     "output_type": "stream",
     "text": [
      "Training error for the test data set created is:  0.0\n"
     ]
    }
   ],
   "source": [
    "#creating data with k = 4, m =10\n",
    "train_data_set, train_labels = create_training_data(4,10)\n",
    "train_feature_vec = list(range(0,4))\n",
    "#Fitting the data to decision tree\n",
    "node_train = decision_tree(train_data_set,train_labels,train_feature_vec)\n",
    "train_pred_labels = []\n",
    "for r in range(0,10):\n",
    "    node_train_copy = copy.deepcopy(node_train)\n",
    "    train_pred_labels.append(find_decision(train_data_set[r],node_train_copy))\n",
    "train_error = get_error(train_labels,train_pred_labels)\n",
    "print(\"Training error for the test data set created is: \",train_error)"
   ]
  },
  {
   "cell_type": "code",
   "execution_count": null,
   "metadata": {},
   "outputs": [],
   "source": []
  },
  {
   "cell_type": "markdown",
   "metadata": {},
   "source": [
    "Question 1.3\n",
    "\n",
    "Ordering of the variables makes sense. The higher the information gain from the variable it will be on the top. "
   ]
  },
  {
   "cell_type": "code",
   "execution_count": 12,
   "metadata": {},
   "outputs": [
    {
     "data": {
      "text/plain": [
       "[[(0, 0, None, False)],\n",
       " [(1, 2, 0, False), (1, 2, 0, False)],\n",
       " [(2, 1, 2, True), (2, 3, 2, False), (2, 0, 2, True), (2, 1, 2, True)],\n",
       " [(3, 1, 3, False), (3, 0, 3, True)],\n",
       " [(4, 1, 1, True), (4, 0, 1, True)]]"
      ]
     },
     "execution_count": 12,
     "metadata": {},
     "output_type": "execute_result"
    }
   ],
   "source": [
    "#Question 1.3\n",
    "k=4\n",
    "m=30\n",
    "data_set_org, labels = create_training_data(k,m) #Generating data\n",
    "feature_vec = list(range(0,k)) #taking the values from 0 to k-1 as k-features\n",
    "data_set = copy.deepcopy(data_set_org) #just keep old data for testing. can avoid it.\n",
    "node_stat = decision_tree(data_set,labels,feature_vec)\n",
    "node = copy.deepcopy(node_stat)\n",
    "print_decision_tree(node)"
   ]
  },
  {
   "attachments": {
    "dt_1.3.jpeg": {
     "image/jpeg": "[encoded data removed]"
    }
   },
   "cell_type": "markdown",
   "metadata": {},
   "source": [
    "![dt_1.3.jpeg](attachment:dt_1.3.jpeg)"
   ]
  },
  {
   "cell_type": "code",
   "execution_count": null,
   "metadata": {},
   "outputs": [],
   "source": []
  },
  {
   "cell_type": "markdown",
   "metadata": {},
   "source": [
    "Question 1.4\n",
    "Here I have generated k = 10 and random m value between 100 and 10000. Iterations in the below box is number of m values taken. Output is average error for the given k and m"
   ]
  },
  {
   "cell_type": "code",
   "execution_count": 13,
   "metadata": {
    "scrolled": false
   },
   "outputs": [
    {
     "name": "stdout",
     "output_type": "stream",
     "text": [
      "average error for  10 iterations is  0.02328914732104958\n"
     ]
    }
   ],
   "source": [
    "#Q 1.4\n",
    "\n",
    "iterations = 10\n",
    "avg_error1iter, _, _= avg_error(iterations,node,k)\n",
    "print(\"average error for \",iterations,\"iterations is \",avg_error1iter)"
   ]
  },
  {
   "cell_type": "markdown",
   "metadata": {},
   "source": []
  },
  {
   "cell_type": "markdown",
   "metadata": {},
   "source": [
    "Question 1.5\n",
    "\n",
    "In the graph, you can see that as the value of m increaes, typical error decreases. Marginal value of addition of training data is beneficial for training only to a point. "
   ]
  },
  {
   "cell_type": "code",
   "execution_count": 14,
   "metadata": {},
   "outputs": [
    {
     "data": {
      "text/plain": [
       "Text(0, 0.5, 'Abs error')"
      ]
     },
     "execution_count": 14,
     "metadata": {},
     "output_type": "execute_result"
    },
    {
     "data": {
      "image/png": "[encoded data removed]",
      "text/plain": [
       "<Figure size 432x288 with 1 Axes>"
      ]
     },
     "metadata": {
      "needs_background": "light"
     },
     "output_type": "display_data"
    }
   ],
   "source": [
    "#Question 5\n",
    "\n",
    "\"\"\"\n",
    "Creating different values of m between 10 and 2000\n",
    "\"\"\"\n",
    "def get_m_list(x,y):\n",
    "    m1 = list(range(10,100,10))\n",
    "    m2 = list(range(100,2000,100))\n",
    "    m3 = []#list(range(1000,10000,1000))\n",
    "    m_list = m1 + m2 + m3\n",
    "    return m_list\n",
    "\n",
    "\"\"\"\n",
    "Estimating error for multiple values of m\n",
    "Output: average error for the given m and its error value as lists. \n",
    "\"\"\"\n",
    "def avg_error_per_m(k=4):\n",
    "    error = []\n",
    "    m_list = []\n",
    "    predicted_labels = []\n",
    "    \n",
    "    m_list = get_m_list(100,10000)\n",
    "    k =10\n",
    "    for m in m_list:\n",
    "        \n",
    "        train_data_set, train_labels = create_training_data(k,m)\n",
    "        train_feature_vec = list(range(0,k))\n",
    "        node_train = decision_tree(train_data_set,train_labels,train_feature_vec)\n",
    "        train_pred_labels = []\n",
    "        for r in range(0,m):\n",
    "            node_train_copy = copy.deepcopy(node_train)\n",
    "            train_pred_labels.append(find_decision(train_data_set[r],node_train_copy))\n",
    "        train_error = get_error(train_labels,train_pred_labels)\n",
    "        if train_error != 0:\n",
    "            print(\"Error occured. Training error should be zero for m is \",m,\" /n\")\n",
    "        \n",
    "        data_set, labels = create_training_data(k,m)\n",
    "        predicted_labels = []\n",
    "        for r in range(0,m):\n",
    "            node_test_copy = copy.deepcopy(node_train)\n",
    "            predicted_labels.append(find_decision(data_set[r],node_test_copy))\n",
    "        test_error = get_error(labels,predicted_labels)\n",
    "        abs_error = abs(train_error-test_error)\n",
    "        error.append(abs_error)\n",
    "    return sum(error)/len(m_list), error, m_list\n",
    "\n",
    "\n",
    "avg_typical_error, abs_error, m_list= avg_error_per_m()\n",
    "#plotting the graph for all iterations\n",
    "plt.plot(m_list,abs_error)\n",
    "plt.xlabel(\"m-value\")\n",
    "plt.ylabel(\"Abs error\")"
   ]
  },
  {
   "cell_type": "code",
   "execution_count": null,
   "metadata": {},
   "outputs": [],
   "source": []
  },
  {
   "cell_type": "markdown",
   "metadata": {},
   "source": [
    "Question 1.6\n",
    "\n",
    "Alternate metric used inplace of information_gain is gini index. From the below graph of comparison for gini vs ig we can see that both the indecies show similar behaviour. "
   ]
  },
  {
   "cell_type": "code",
   "execution_count": 169,
   "metadata": {},
   "outputs": [],
   "source": [
    "\"\"\"\n",
    "From the definition of gini index, the following method is written.\n",
    "Input: Dataset, labels, featur_vector\n",
    "Output: index of the feature vector with highest gini index. \n",
    "\"\"\"\n",
    "def calc_gini(data,y_values,feature_vec):\n",
    "    gini_for_x = []\n",
    "    for i in range(0,len(feature_vec)):\n",
    "        freq_of_one, freq_of_zero = get_freq_dist(data[:,i])\n",
    "        freq_pair = cond_prob(i,data)\n",
    "        x_0_y_0,x_0_y_1 = freq_pair[(0,0)],freq_pair[(0,1)]\n",
    "        x_1_y_0,x_1_y_1 = freq_pair[(1,0)],freq_pair[(1,1)]\n",
    "        gini_x_0 = 1 - x_0_y_0**2 - x_0_y_1**2\n",
    "        gini_x_1 = 1 - x_1_y_0**2 - x_1_y_1**2\n",
    "        gini = freq_of_one*gini_x_1 + freq_of_zero*gini_x_0\n",
    "        gini_for_x.append(gini)\n",
    "    max_gini_x = np.argmax(gini_for_x)\n",
    "    return max_gini_x, gini_for_x[max_gini_x]\n",
    "\n",
    "\n",
    "\"\"\"\n",
    "Decision tree creation using gini index.\n",
    "Input  : Training_data, labels, feature_vector\n",
    "Output : Root node of the decision tree \n",
    "\"\"\"\n",
    "def decision_tree_gini(data_set, labels, feature_vec):\n",
    "#     print(labels,\"feature vectors before splitting the tree\",feature_vec)\n",
    "    root = Node()\n",
    "    flag = 0\n",
    "    if len(list(set(labels))) == 1:\n",
    "        flag = 1\n",
    "        root.val = labels[0]\n",
    "        root.leaf = True\n",
    "        return root    \n",
    "\n",
    "    max_ig_ind, maxGain = calc_gini(data_set,labels,feature_vec)\n",
    "    #  print(\"decision tree is splitting on feature\",feature_vec[max_ig_ind])\n",
    "    \n",
    "    root.val = feature_vec[max_ig_ind]\n",
    "    new_feature_vec = feature_vec[:max_ig_ind] + feature_vec[max_ig_ind+1:]\n",
    "    \n",
    "    data_right,data_left = data_set[data_set[:,max_ig_ind] !=0],data_set[data_set[:,max_ig_ind] ==0]\n",
    "    data_right,data_left = np.delete(data_right,max_ig_ind,1),np.delete(data_left,max_ig_ind,1)\n",
    "    labels_right,labels_left = data_right[:,-1],data_left[:,-1]\n",
    "\n",
    "    if len(list(set(labels))) != 1:\n",
    "        flag = 1\n",
    "        new_feature_vec_right = copy.deepcopy(new_feature_vec)\n",
    "        new_feature_vec_left = copy.deepcopy(new_feature_vec)\n",
    "        if len(data_right):\n",
    "            root.right = decision_tree(data_right,labels_right,new_feature_vec_right)\n",
    "        if len(data_left):\n",
    "            root.left = decision_tree(data_left,labels_left,new_feature_vec_left)\n",
    "    return root\n",
    "\n",
    "\"\"\"\n",
    "Calculating the average error for different m values from 100 to 10000\n",
    "\"\"\"\n",
    "def avg_error_per_m_gini(k=4):\n",
    "    error = []\n",
    "    m_list = []\n",
    "    predicted_labels = []\n",
    "    \n",
    "    m_list = get_m_list(100,10000)\n",
    "    k =10\n",
    "    for m in m_list:\n",
    "        \n",
    "        train_data_set, train_labels = create_training_data(k,m)\n",
    "        train_feature_vec = list(range(0,k))\n",
    "        node_train = decision_tree_gini(train_data_set,train_labels,train_feature_vec)\n",
    "        train_pred_labels = []\n",
    "        for r in range(0,m):\n",
    "            node_train_copy = copy.deepcopy(node_train)\n",
    "            train_pred_labels.append(find_decision(train_data_set[r],node_train_copy))\n",
    "        train_error = get_error(train_labels,train_pred_labels)\n",
    "        if train_error != 0:\n",
    "            print(\"Error occured. Training error should be zero for m is \",m,\" /n\")\n",
    "        \n",
    "        data_set, labels = create_training_data(k,m)\n",
    "        predicted_labels = []\n",
    "        for r in range(0,m):\n",
    "            node_test_copy = copy.deepcopy(node_train)\n",
    "            predicted_labels.append(find_decision(data_set[r],node_test_copy))\n",
    "        test_error = get_error(labels,predicted_labels)\n",
    "        abs_error = abs(train_error-test_error)\n",
    "        error.append(abs_error)\n",
    "    return sum(error)/len(m_list), error, m_list\n",
    "\n",
    "\n",
    "avg_typical_error_gini, abs_error_gini, m_list_gini= avg_error_per_m_gini()\n"
   ]
  },
  {
   "cell_type": "code",
   "execution_count": 170,
   "metadata": {},
   "outputs": [
    {
     "data": {
      "text/plain": [
       "[0.3,\n",
       " 0.2,\n",
       " 0.26666666666666666,\n",
       " 0.175,\n",
       " 0.22,\n",
       " 0.21666666666666667,\n",
       " 0.15714285714285714,\n",
       " 0.1125,\n",
       " 0.15555555555555556,\n",
       " 0.1,\n",
       " 0.085,\n",
       " 0.06666666666666667,\n",
       " 0.09,\n",
       " 0.058,\n",
       " 0.051666666666666666,\n",
       " 0.047142857142857146,\n",
       " 0.05125,\n",
       " 0.034444444444444444,\n",
       " 0.033,\n",
       " 0.04090909090909091,\n",
       " 0.034166666666666665,\n",
       " 0.026153846153846153,\n",
       " 0.027857142857142858,\n",
       " 0.027333333333333334,\n",
       " 0.02875,\n",
       " 0.021176470588235293,\n",
       " 0.021111111111111112,\n",
       " 0.030526315789473683]"
      ]
     },
     "execution_count": 170,
     "metadata": {},
     "output_type": "execute_result"
    }
   ],
   "source": []
  },
  {
   "cell_type": "code",
   "execution_count": 172,
   "metadata": {},
   "outputs": [
    {
     "data": {
      "text/plain": [
       "Text(0, 0.5, 'Abs error')"
      ]
     },
     "execution_count": 172,
     "metadata": {},
     "output_type": "execute_result"
    },
    {
     "data": {
      "image/png": "[encoded data removed]",
      "text/plain": [
       "<Figure size 432x288 with 1 Axes>"
      ]
     },
     "metadata": {
      "needs_background": "light"
     },
     "output_type": "display_data"
    }
   ],
   "source": [
    "#plotting the graph for all iterations\n",
    "plt.plot(m_list_gini,abs_error_gini)\n",
    "plt.xlabel(\"m-value\")\n",
    "plt.ylabel(\"Abs error\")\n"
   ]
  },
  {
   "cell_type": "code",
   "execution_count": 174,
   "metadata": {},
   "outputs": [],
   "source": [
    "#Comparision between IG and gini index\n",
    "df = pd.DataFrame({'x':m_list, 'y1': abs_error, 'y2':abs_error_gini})\n",
    "\n",
    "\n",
    "plt.plot( 'x', 'y1', data=df, marker='o', markerfacecolor='blue', markersize=12, color='skyblue', linewidth=4)\n",
    "plt.plot( 'x', 'y2', data=df, marker='', color='olive', linewidth=2)\n",
    "plt.xlabel(\"m-value\")\n",
    "plt.ylabel(\"error_value\")\n",
    "plt.legend()\n",
    "print(\"y1->train_error y2->test_error\")\n",
    "for tr,te,d in zip(abs_error,abs_error_gini,m_list):\n",
    "    print(\"for depth: \",d,\" training error is: \",tr)"
   ]
  },
  {
   "cell_type": "code",
   "execution_count": null,
   "metadata": {},
   "outputs": [],
   "source": []
  },
  {
   "cell_type": "code",
   "execution_count": null,
   "metadata": {},
   "outputs": [],
   "source": []
  },
  {
   "cell_type": "markdown",
   "metadata": {},
   "source": [
    "Question2:\n",
    "\n",
    "Question2.1\n",
    "I used the new distribution given by the professor on canvas. There are irrelevant variables selected as splliting features. There should be terminating conditions for the same. "
   ]
  },
  {
   "cell_type": "code",
   "execution_count": 144,
   "metadata": {},
   "outputs": [
    {
     "name": "stderr",
     "output_type": "stream",
     "text": [
      "<ipython-input-8-7c793c88cc47>:49: RuntimeWarning: invalid value encountered in log2\n",
      "  ent_x_zero = -x_0_y_1*np.log2(x_0_y_1)-x_0_y_0*np.log2(x_0_y_0)\n"
     ]
    }
   ],
   "source": [
    "#Generate randomly the value of x0 with equal probability\n",
    "def get_x1_2():\n",
    "    return np.random.choice(np.arange(0,2), p=[0.5, 0.5])\n",
    "\n",
    "def get_x_2(x):\n",
    "    return np.random.choice(np.array([x,1-x]), p=[0.75, 0.25])\n",
    "\n",
    "def get_xvalues_2(k):\n",
    "    x_values = np.empty(k,dtype=int)\n",
    "    x1 = get_x1_2()\n",
    "    x_values[0] = x1\n",
    "    for i in range(1,10):\n",
    "        x_values[i] = get_x_2(x_values[i-1])\n",
    "    for i in range(11,16):\n",
    "        x_values[i] = get_x1_2()\n",
    "    return x_values\n",
    "\n",
    "#According to the distribution, label value is dependent on value of x0, x1-x5,x6-x10\n",
    "def get_y_2(k=16):\n",
    "    x_values = get_xvalues_2(k)\n",
    "    if x_values[0] == 0:\n",
    "        return majority_ele(x_values[1:6]), x_values\n",
    "    else:\n",
    "        return majority_ele(x_values[6:11]), x_values\n",
    "\n",
    "\n",
    "#data set structure List(List(features+label)). Note: label is last element of the row. \n",
    "def create_training_data_2(k,m):\n",
    "    y_values = []\n",
    "    mat = np.empty([m,k+1],dtype=int)\n",
    "    for i in range(0,m):\n",
    "        y,x_val = get_y_2(k)\n",
    "        y_values.append(y) \n",
    "        mat[i,:] = np.append(x_val,y)\n",
    "    return mat, y_values\n",
    "\n",
    "\n",
    "\"\"\"\n",
    "Decision Tree with irrelevant noise carrying at each step.\n",
    "Output: Root node and irralevant variables choosen as nodes in the tree.\n",
    "\"\"\"\n",
    "def decision_tree_2(data_set, labels, feature_vec,irr_var=[]):\n",
    "    root = Node()\n",
    "    flag = 0\n",
    "    if len(list(set(labels))) == 1:\n",
    "        flag = 1\n",
    "        root.val = labels[0]\n",
    "        root.leaf = True\n",
    "        return root, irr_var\n",
    "    \n",
    "\n",
    "    max_ig_ind, maxGain = calc_IG(data_set,labels,feature_vec)\n",
    "    set_features = set(feature_vec)\n",
    "    if feature_vec[max_ig_ind] in list(range(11,16)):\n",
    "        irr_var.append(feature_vec[max_ig_ind])\n",
    "    \n",
    "    root.val = feature_vec[max_ig_ind]\n",
    "    new_feature_vec = feature_vec[:max_ig_ind] + feature_vec[max_ig_ind+1:]\n",
    "    \n",
    "    data_right,data_left = data_set[data_set[:,max_ig_ind] !=0],data_set[data_set[:,max_ig_ind] ==0]\n",
    "    data_right,data_left = np.delete(data_right,max_ig_ind,1),np.delete(data_left,max_ig_ind,1)\n",
    "    labels_right,labels_left = data_right[:,-1],data_left[:,-1]\n",
    "    if len(list(set(labels))) != 1:\n",
    "        flag = 1\n",
    "        new_feature_vec_right = copy.deepcopy(new_feature_vec)\n",
    "        new_feature_vec_left = copy.deepcopy(new_feature_vec)\n",
    "        if len(data_right):\n",
    "            root.right,irr_var = decision_tree_2(data_right,labels_right,new_feature_vec_right,irr_var)\n",
    "        if len(data_left):\n",
    "            root.left,irr_var = decision_tree_2(data_left,labels_left,new_feature_vec_left,irr_var)\n",
    "    return root, irr_var\n",
    "\n",
    "m_2 = 100\n",
    "k=16\n",
    "#Creating the data\n",
    "data_set_org_2,labels_2 = create_training_data_2(16,m_2)\n",
    "feature_vec_2 = list(range(0,k)) #taking the values from 0 to k-1 as k-features\n",
    "data_set_2 = copy.deepcopy(data_set_org_2) #just keep old data for testing. can avoid it.\n",
    "\n",
    "#Function tofit the tree using ID3\n",
    "node_stat_2,irr_var = decision_tree_2(data_set_2,labels_2,feature_vec_2)\n",
    "node_2 = copy.deepcopy(node_stat_2)\n",
    "\n",
    "#printing the decision tree\n",
    "# print_decision_tree(node_2)\n",
    "\n",
    "\n",
    "\n"
   ]
  },
  {
   "cell_type": "code",
   "execution_count": 146,
   "metadata": {},
   "outputs": [
    {
     "name": "stderr",
     "output_type": "stream",
     "text": [
      "<ipython-input-8-7c793c88cc47>:49: RuntimeWarning: invalid value encountered in log2\n",
      "  ent_x_zero = -x_0_y_1*np.log2(x_0_y_1)-x_0_y_0*np.log2(x_0_y_0)\n",
      "<ipython-input-8-7c793c88cc47>:5: RuntimeWarning: overflow encountered in long_scalars\n",
      "  freq_of_one_1 = sum(array) / len(array) #gives probability of x = 1\n",
      "<ipython-input-8-7c793c88cc47>:15: RuntimeWarning: overflow encountered in long_scalars\n",
      "  freq_one, freq_zero = sum(col), len_data -sum(col)\n"
     ]
    },
    {
     "data": {
      "text/plain": [
       "Text(0, 0.5, 'Abs error')"
      ]
     },
     "execution_count": 146,
     "metadata": {},
     "output_type": "execute_result"
    },
    {
     "data": {
      "image/png": "[encoded data removed]",
      "text/plain": [
       "<Figure size 432x288 with 1 Axes>"
      ]
     },
     "metadata": {
      "needs_background": "light"
     },
     "output_type": "display_data"
    }
   ],
   "source": [
    "def get_m_list_21(x,y):\n",
    "    m1 = list(range(10,100,10))\n",
    "    m2 = list(range(100,1000,100))\n",
    "    m3 = []#list(range(1000,10000,1000))\n",
    "    m_list = m1 + m2 + m3\n",
    "    return m_list\n",
    "\n",
    "#Calculating average error for the trained data\n",
    "def avg_error_per_m_2(k=16):\n",
    "    error = []\n",
    "    m_list = []\n",
    "    predicted_labels = []\n",
    "    \n",
    "    m_list = get_m_list_21(100,10000)\n",
    "    \n",
    "    for m in m_list:\n",
    "        \n",
    "        train_data_set, train_labels = create_training_data_2(k,m)\n",
    "        train_feature_vec = list(range(0,k))\n",
    "        node_train,_ = decision_tree_2(train_data_set,train_labels,train_feature_vec)\n",
    "        train_pred_labels = []\n",
    "        for r in range(0,m):\n",
    "            node_train_copy = copy.deepcopy(node_train)\n",
    "            train_pred_labels.append(find_decision(train_data_set[r],node_train_copy))\n",
    "        train_error = get_error(train_labels,train_pred_labels)\n",
    "        if train_error != 0:\n",
    "            print(\"Error occured. Training error should be zero for m is \",m,\" /n\")\n",
    "        \n",
    "        data_set, labels = create_training_data_2(k,m)\n",
    "        predicted_labels = []\n",
    "        for r in range(0,m):\n",
    "            node_test_copy = copy.deepcopy(node_train)\n",
    "            predicted_labels.append(find_decision(data_set[r],node_test_copy))\n",
    "        test_error = get_error(labels,predicted_labels)\n",
    "        abs_error = abs(train_error-test_error)\n",
    "        error.append(abs_error)\n",
    "    return sum(error)/len(m_list), error, m_list\n",
    "\n",
    "\n",
    "avg_typical_error, abs_error, m_list= avg_error_per_m_2()\n",
    "#plotting the graph for all iterations\n",
    "plt.plot(m_list,abs_error)\n",
    "plt.xlabel(\"m-value\")\n",
    "plt.ylabel(\"Abs error\")"
   ]
  },
  {
   "cell_type": "code",
   "execution_count": null,
   "metadata": {},
   "outputs": [],
   "source": []
  },
  {
   "cell_type": "code",
   "execution_count": null,
   "metadata": {},
   "outputs": [],
   "source": []
  },
  {
   "cell_type": "code",
   "execution_count": null,
   "metadata": {},
   "outputs": [],
   "source": []
  },
  {
   "cell_type": "markdown",
   "metadata": {},
   "source": [
    "Question 2.2\n",
    "\n",
    "From the graph, as we increase the training data, we see the number of irrelevant data picked are less. In my experiments, after 10000 data points, error starts decreasing more. "
   ]
  },
  {
   "cell_type": "code",
   "execution_count": 148,
   "metadata": {},
   "outputs": [
    {
     "name": "stderr",
     "output_type": "stream",
     "text": [
      "<ipython-input-8-7c793c88cc47>:5: RuntimeWarning: overflow encountered in long_scalars\n",
      "  freq_of_one_1 = sum(array) / len(array) #gives probability of x = 1\n",
      "<ipython-input-8-7c793c88cc47>:15: RuntimeWarning: overflow encountered in long_scalars\n",
      "  freq_one, freq_zero = sum(col), len_data -sum(col)\n",
      "<ipython-input-8-7c793c88cc47>:49: RuntimeWarning: invalid value encountered in log2\n",
      "  ent_x_zero = -x_0_y_1*np.log2(x_0_y_1)-x_0_y_0*np.log2(x_0_y_0)\n",
      "<ipython-input-8-7c793c88cc47>:48: RuntimeWarning: invalid value encountered in log2\n",
      "  ent_x_one  = -x_1_y_1*np.log2(x_1_y_1)-x_1_y_0*np.log2(x_1_y_0)\n"
     ]
    },
    {
     "name": "stdout",
     "output_type": "stream",
     "text": [
      "avg irrelavant variables used are 1.044117647058824\n"
     ]
    },
    {
     "data": {
      "text/plain": [
       "Text(0, 0.5, 'irr_var_count')"
      ]
     },
     "execution_count": 148,
     "metadata": {},
     "output_type": "execute_result"
    },
    {
     "data": {
      "image/png": "[encoded data removed]",
      "text/plain": [
       "<Figure size 432x288 with 1 Axes>"
      ]
     },
     "metadata": {
      "needs_background": "light"
     },
     "output_type": "display_data"
    }
   ],
   "source": [
    "def get_m_list_22(x,y):\n",
    "    m1 = list(range(10,100,10))\n",
    "    m2 = list(range(100,6000,100))\n",
    "    m_list = m1 + m2 \n",
    "    return m_list\n",
    "\n",
    "def avg_irr_var_per_m(iterations, k=16):\n",
    "    m_list = get_m_list_22(100,10000)\n",
    "    irr_var_list = []\n",
    "    for m in m_list:\n",
    "        avg_c = []\n",
    "        for i in range(0,iterations):\n",
    "            train_data_set, train_labels = create_training_data_2(k,m)\n",
    "            train_feature_vec = list(range(0,k))\n",
    "            node,_ = decision_tree_2(train_data_set,train_labels,train_feature_vec)\n",
    "            _, irr_var = print_decision_tree_irr(node)\n",
    "            avg_c.append(len(list(set(irr_var))))\n",
    "        avg_count = sum(avg_c) / len(avg_c)\n",
    "        irr_var_list.append(avg_count)\n",
    "    return irr_var_list, m_list\n",
    "\n",
    "def print_decision_tree_irr(n):\n",
    "    res = []\n",
    "    queue = []\n",
    "    #each level order traversal node is set as (level_of tree, node_val/feature,parent,if its leaf node)\n",
    "    queue.append((-1, n, None, False))\n",
    "    irr = []\n",
    "    while len(queue) >0:\n",
    "        level = []\n",
    "        for i in range(len(queue)):    \n",
    "            h,n,par,leaf = queue.pop(0)\n",
    "            if n.val in list(range(11,16)):\n",
    "                irr.append(n.val)\n",
    "            level.append((h+1,n.val,par,n.leaf))\n",
    "            if n.left:\n",
    "                queue.append((h+1, n.left,n.val,n.leaf))\n",
    "            if n.right:\n",
    "                queue.append((h+1, n.right,n.val,n.leaf))\n",
    "        res.append(level)\n",
    "    return res, irr\n",
    "\n",
    "iterations = 5\n",
    "irr_var_list, m_list= avg_irr_var_per_m(iterations)\n",
    "avg_irr_var_used = sum(irr_var_list) / len(m_list)\n",
    "print(\"avg irrelavant variables used are\", avg_irr_var_used ) #Used decesion_tree_2 to get irrelevant variables\n",
    "#plotting the graph for all iterations\n",
    "plt.plot(m_list,irr_var_list)\n",
    "plt.xlabel(\"m-value\")\n",
    "plt.ylabel(\"irr_var_count\")\n"
   ]
  },
  {
   "cell_type": "code",
   "execution_count": null,
   "metadata": {},
   "outputs": [],
   "source": []
  },
  {
   "cell_type": "markdown",
   "metadata": {},
   "source": [
    "Question 2.3.a\n",
    "\n",
    "From the below graph, you can see that at depth 6 the error becomes zero. Threshold is varing around 7/8/9 in my experiments according to the data. "
   ]
  },
  {
   "cell_type": "code",
   "execution_count": 149,
   "metadata": {},
   "outputs": [],
   "source": [
    "\"\"\"\n",
    "depth: depth at which pruning is done\n",
    "d    : depth of the current node\n",
    "\"\"\"\n",
    "def decision_tree_depth_prune(data_set, labels, feature_vec,depth,d=0):\n",
    "    root = Node()\n",
    "    flag = 0\n",
    "    if len(list(set(labels))) == 1 or d == depth:\n",
    "        sum_labels =  sum(labels)\n",
    "        rev_labels = len(labels) - sum_labels\n",
    "        if sum_labels > rev_labels:\n",
    "            root.val = 1\n",
    "        else:\n",
    "            root.val = 0\n",
    "        root.leaf = True\n",
    "        return root, d\n",
    "    \n",
    "\n",
    "    max_ig_ind, maxGain = calc_IG(data_set,labels,feature_vec)\n",
    "    \n",
    "    \n",
    "    root.val = feature_vec[max_ig_ind]\n",
    "    new_feature_vec = feature_vec[:max_ig_ind] + feature_vec[max_ig_ind+1:]\n",
    "    \n",
    "    data_right,data_left = data_set[data_set[:,max_ig_ind] !=0],data_set[data_set[:,max_ig_ind] ==0]\n",
    "    data_right,data_left = np.delete(data_right,max_ig_ind,1),np.delete(data_left,max_ig_ind,1)\n",
    "    labels_right,labels_left = data_right[:,-1],data_left[:,-1]\n",
    "    if len(list(set(labels))) != 1:\n",
    "        flag = 1\n",
    "        new_feature_vec_right = copy.deepcopy(new_feature_vec)\n",
    "        new_feature_vec_left = copy.deepcopy(new_feature_vec)\n",
    "        if len(data_right):\n",
    "            root.right, d = decision_tree_depth_prune(data_right,labels_right,new_feature_vec_right,depth,d+1)\n",
    "        if len(data_left):\n",
    "            root.left, d = decision_tree_depth_prune(data_left,labels_left,new_feature_vec_left,depth,d+1)\n",
    "    return root, d\n",
    "  \n",
    "\n",
    "\n",
    "def height_dt(n):\n",
    "    res = []\n",
    "    queue = []\n",
    "    #each level order traversal node is set as (level_of tree, node_val/feature,parent,if its leaf node)\n",
    "    queue.append((-1, n, None, False))\n",
    "    \n",
    "    while len(queue) >0:\n",
    "        level = []\n",
    "        for i in range(len(queue)):    \n",
    "            h,n,par,leaf = queue.pop(0)\n",
    "            level.append((h+1,n.val,par,n.leaf))\n",
    "            if n.left:\n",
    "                queue.append((h+1, n.left,n.val,n.leaf))\n",
    "            if n.right:\n",
    "                queue.append((h+1, n.right,n.val,n.leaf))\n",
    "        res.append(level)\n",
    "    return res, h+1\n",
    "\n",
    "  "
   ]
  },
  {
   "cell_type": "code",
   "execution_count": 150,
   "metadata": {},
   "outputs": [],
   "source": [
    "def prune_depth_iter(train_data_set, train_labels,test_data_set, test_labels,k=16):\n",
    "    node_set = decision_tree(train_data_set,train_labels,list(range(0,16)))\n",
    "    _,depth_set = height_dt(node_set)\n",
    "    depth_set = depth_set \n",
    "    if depth_set == 0:\n",
    "        return [],[],[]\n",
    "    feature_vec = list(range(0,k))\n",
    "    depths = list(range(1,depth_set))\n",
    "    train_errors = []\n",
    "    test_errors = []\n",
    "    for depth in depths:\n",
    "        node_train,_  = decision_tree_depth_prune(train_data_set, train_labels, feature_vec,depth,d=0)\n",
    "        train_pred_labels = []\n",
    "        for r in range(0,8000):\n",
    "            node_train_copy = copy.deepcopy(node_train)\n",
    "            train_pred_labels.append(find_decision(train_data_set[r],node_train_copy))\n",
    "        train_error = get_error(train_labels,train_pred_labels)\n",
    "        train_errors.append(train_error)\n",
    "        \n",
    "        test_predicted_labels = []\n",
    "        for r in range(0,2000):\n",
    "            node_test_copy = copy.deepcopy(node_train)\n",
    "            test_predicted_labels.append(find_decision(test_data_set[r],node_test_copy))\n",
    "        test_error = get_error(test_labels,test_predicted_labels)\n",
    "        test_errors.append(test_error)\n",
    "        \n",
    "    return train_errors,test_errors, depths\n",
    "\n",
    "# This data set is used for 2.3a,2.3b\n",
    "train_data_set, train_labels = create_training_data_2(16,8000)\n",
    "test_data_set, test_labels = create_training_data_2(16,2000)\n",
    "train_errors,test_errors,depths = prune_depth_iter(train_data_set, train_labels,test_data_set, test_labels,k=16)\n",
    "\n"
   ]
  },
  {
   "cell_type": "code",
   "execution_count": 152,
   "metadata": {},
   "outputs": [
    {
     "name": "stdout",
     "output_type": "stream",
     "text": [
      "y1->train_error y2->test_error\n",
      "for depth:  1  training error is:  0.161625\n",
      "for depth:  2  training error is:  0.040375\n",
      "for depth:  3  training error is:  0.010125\n",
      "for depth:  4  training error is:  0.000125\n",
      "for depth:  5  training error is:  0.0\n",
      "for depth:  6  training error is:  0.000125\n",
      "for depth:  7  training error is:  0.0\n"
     ]
    },
    {
     "name": "stderr",
     "output_type": "stream",
     "text": [
      "<ipython-input-152-478162899f2c>:4: RuntimeWarning: Second argument 'y1' is ambiguous: could be a format string but is in 'data'; using as data.  If it was intended as data, set the format string to an empty string to suppress this warning.  If it was intended as a format string, explicitly pass the x-values as well.  Alternatively, rename the entry in 'data'.\n",
      "  plt.plot( 'x', 'y1', data=df, marker='o', markerfacecolor='blue', markersize=12, color='skyblue', linewidth=4)\n",
      "<ipython-input-152-478162899f2c>:5: RuntimeWarning: Second argument 'y2' is ambiguous: could be a format string but is in 'data'; using as data.  If it was intended as data, set the format string to an empty string to suppress this warning.  If it was intended as a format string, explicitly pass the x-values as well.  Alternatively, rename the entry in 'data'.\n",
      "  plt.plot( 'x', 'y2', data=df, marker='', color='olive', linewidth=2)\n"
     ]
    },
    {
     "data": {
      "image/png": "[encoded data removed]",
      "text/plain": [
       "<Figure size 432x288 with 1 Axes>"
      ]
     },
     "metadata": {
      "needs_background": "light"
     },
     "output_type": "display_data"
    }
   ],
   "source": [
    "df = pd.DataFrame({'x':depths, 'y1': train_errors, 'y2':test_errors})\n",
    "\n",
    "\n",
    "plt.plot( 'x', 'y1', data=df, marker='o', markerfacecolor='blue', markersize=12, color='skyblue', linewidth=4)\n",
    "plt.plot( 'x', 'y2', data=df, marker='', color='olive', linewidth=2)\n",
    "plt.xlabel(\"depth\")\n",
    "plt.ylabel(\"error_value\")\n",
    "plt.legend()\n",
    "print(\"y1->train_error y2->test_error\")\n",
    "for tr,te,d in zip(train_errors,test_errors,depths):\n",
    "    print(\"for depth: \",d,\" training error is: \",tr)"
   ]
  },
  {
   "cell_type": "markdown",
   "metadata": {},
   "source": [
    "Question 2.3.b\n",
    "According to my experiments, threshold smaple size around 20-50. It is varying according to data. I ran experiment with threshold samplesize = 20 for 2.6 "
   ]
  },
  {
   "cell_type": "code",
   "execution_count": 153,
   "metadata": {},
   "outputs": [
    {
     "name": "stderr",
     "output_type": "stream",
     "text": [
      "<ipython-input-8-7c793c88cc47>:49: RuntimeWarning: invalid value encountered in log2\n",
      "  ent_x_zero = -x_0_y_1*np.log2(x_0_y_1)-x_0_y_0*np.log2(x_0_y_0)\n"
     ]
    }
   ],
   "source": [
    "def decision_tree_sample_size(data_set, labels, feature_vec,sample_size):\n",
    "    root = Node()\n",
    "    flag = 0\n",
    "    if len(list(set(labels))) == 1 or len(labels) <= sample_size:\n",
    "        root.val = majority_ele(labels)\n",
    "        root.leaf = True\n",
    "        return root\n",
    "    \n",
    "    if feature_vec == []:\n",
    "        print(feature_vec)\n",
    "        print(labels)\n",
    "    max_ig_ind, maxGain = calc_IG(data_set,labels,feature_vec)   \n",
    "    root.val = feature_vec[max_ig_ind]\n",
    "    new_feature_vec = feature_vec[:max_ig_ind] + feature_vec[max_ig_ind+1:]\n",
    "    \n",
    "    data_right,data_left = data_set[data_set[:,max_ig_ind] !=0],data_set[data_set[:,max_ig_ind] ==0]\n",
    "    data_right,data_left = np.delete(data_right,max_ig_ind,1),np.delete(data_left,max_ig_ind,1)\n",
    "    labels_right,labels_left = data_right[:,-1],data_left[:,-1]\n",
    "    if len(list(set(labels))) != 1:\n",
    "        flag = 1\n",
    "        new_feature_vec_right = copy.deepcopy(new_feature_vec)\n",
    "        new_feature_vec_left = copy.deepcopy(new_feature_vec)\n",
    "        if len(data_right):\n",
    "            root.right = decision_tree_sample_size(data_right,labels_right,new_feature_vec_right,sample_size)\n",
    "        if len(data_left):\n",
    "            root.left = decision_tree_sample_size(data_left,labels_left,new_feature_vec_left,sample_size)\n",
    "    return root\n",
    "\n",
    "\n",
    "\n",
    "def prune_sample_size(train_data_set, train_labels,test_data_set, test_labels,k=16):\n",
    "    m1 = list(range(10,100,10))\n",
    "    m2 = list(range(100,1000,100))\n",
    "    m3 = list(range(1000,10000,1000))\n",
    "    m_list = m1 + m2 + m3\n",
    "    train_errors = []\n",
    "    test_errors = []\n",
    "    for sample_size in m_list:\n",
    "        node_train = decision_tree_sample_size(train_data_set, train_labels, list(range(0,16)),sample_size)\n",
    "        train_pred_labels = []\n",
    "        for r in range(0,8000):\n",
    "            node_train_copy = copy.deepcopy(node_train)\n",
    "            train_pred_labels.append(find_decision(train_data_set[r],node_train_copy))\n",
    "        train_error = get_error(train_labels,train_pred_labels)\n",
    "        train_errors.append(train_error)\n",
    "        \n",
    "        \n",
    "        test_predicted_labels = []\n",
    "        for r in range(0,2000):\n",
    "            node_test_copy = copy.deepcopy(node_train)\n",
    "            test_predicted_labels.append(find_decision(test_data_set[r],node_test_copy))\n",
    "        test_error = get_error(test_labels,test_predicted_labels)\n",
    "        test_errors.append(test_error)\n",
    "        \n",
    "        \n",
    "    return train_errors,test_errors, m_list\n",
    "\n",
    "# This data set is used for 2.3a,2.3b,2,5,2.6\n",
    "train_data_set, train_labels = create_training_data_2(16,8000)\n",
    "test_data_set, test_labels = create_training_data_2(16,2000)\n",
    "train_errors,test_errors,m_list = prune_sample_size(train_data_set, train_labels,test_data_set, test_labels,k=16)"
   ]
  },
  {
   "cell_type": "code",
   "execution_count": null,
   "metadata": {},
   "outputs": [],
   "source": []
  },
  {
   "cell_type": "code",
   "execution_count": 130,
   "metadata": {},
   "outputs": [],
   "source": []
  },
  {
   "cell_type": "code",
   "execution_count": 154,
   "metadata": {},
   "outputs": [
    {
     "name": "stdout",
     "output_type": "stream",
     "text": [
      "y1->train_error y2->test_error\n"
     ]
    },
    {
     "name": "stderr",
     "output_type": "stream",
     "text": [
      "<ipython-input-154-b767ac91b818>:4: RuntimeWarning: Second argument 'y1' is ambiguous: could be a format string but is in 'data'; using as data.  If it was intended as data, set the format string to an empty string to suppress this warning.  If it was intended as a format string, explicitly pass the x-values as well.  Alternatively, rename the entry in 'data'.\n",
      "  plt.plot( 'x', 'y1', data=df, marker='o', markerfacecolor='blue', markersize=12, color='skyblue', linewidth=4)\n",
      "<ipython-input-154-b767ac91b818>:5: RuntimeWarning: Second argument 'y2' is ambiguous: could be a format string but is in 'data'; using as data.  If it was intended as data, set the format string to an empty string to suppress this warning.  If it was intended as a format string, explicitly pass the x-values as well.  Alternatively, rename the entry in 'data'.\n",
      "  plt.plot( 'x', 'y2', data=df, marker='', color='olive', linewidth=2)\n"
     ]
    },
    {
     "data": {
      "image/png": "[encoded data removed]",
      "text/plain": [
       "<Figure size 432x288 with 1 Axes>"
      ]
     },
     "metadata": {
      "needs_background": "light"
     },
     "output_type": "display_data"
    }
   ],
   "source": [
    "\n",
    "df = pd.DataFrame({'x':m_list, 'y1': train_errors, 'y2':test_errors})\n",
    "\n",
    "\n",
    "plt.plot( 'x', 'y1', data=df, marker='o', markerfacecolor='blue', markersize=12, color='skyblue', linewidth=4)\n",
    "plt.plot( 'x', 'y2', data=df, marker='', color='olive', linewidth=2)\n",
    "plt.xlabel(\"sample\")\n",
    "plt.ylabel(\"error_value\")\n",
    "plt.legend()\n",
    "print(\"y1->train_error y2->test_error\")"
   ]
  },
  {
   "cell_type": "code",
   "execution_count": 155,
   "metadata": {},
   "outputs": [
    {
     "name": "stdout",
     "output_type": "stream",
     "text": [
      "Training error for pruned sample size:  10  is  0.004875\n",
      "Training error for pruned sample size:  20  is  0.013125\n",
      "Training error for pruned sample size:  30  is  0.01625\n",
      "Training error for pruned sample size:  40  is  0.018\n",
      "Training error for pruned sample size:  50  is  0.018\n",
      "Training error for pruned sample size:  60  is  0.022875\n",
      "Training error for pruned sample size:  70  is  0.026\n",
      "Training error for pruned sample size:  80  is  0.037625\n",
      "Training error for pruned sample size:  90  is  0.048375\n",
      "Training error for pruned sample size:  100  is  0.05325\n",
      "Training error for pruned sample size:  200  is  0.091\n",
      "Training error for pruned sample size:  300  is  0.12175\n",
      "Training error for pruned sample size:  400  is  0.125875\n",
      "Training error for pruned sample size:  500  is  0.13425\n",
      "Training error for pruned sample size:  600  is  0.13425\n",
      "Training error for pruned sample size:  700  is  0.13425\n",
      "Training error for pruned sample size:  800  is  0.13425\n",
      "Training error for pruned sample size:  900  is  0.238125\n",
      "Training error for pruned sample size:  1000  is  0.238125\n",
      "Training error for pruned sample size:  2000  is  0.26425\n",
      "Training error for pruned sample size:  3000  is  0.26425\n",
      "Training error for pruned sample size:  4000  is  0.443125\n",
      "Training error for pruned sample size:  5000  is  0.443125\n",
      "Training error for pruned sample size:  6000  is  0.443125\n",
      "Training error for pruned sample size:  7000  is  0.443125\n",
      "Training error for pruned sample size:  8000  is  0.443125\n",
      "Training error for pruned sample size:  9000  is  0.443125\n"
     ]
    }
   ],
   "source": [
    "for tr,te,s in zip(train_errors,test_errors,m_list):\n",
    "    print(\"Training error for pruned sample size: \",s, \" is \",tr)"
   ]
  },
  {
   "cell_type": "code",
   "execution_count": null,
   "metadata": {},
   "outputs": [],
   "source": []
  },
  {
   "cell_type": "markdown",
   "metadata": {},
   "source": [
    "Question2.5\n",
    "\n",
    "Chose optimal depth as 7 from question 2.3a since at 7/8 depth, error becomes zero. As the datapoints increases , irrelevant variables decrease."
   ]
  },
  {
   "cell_type": "code",
   "execution_count": 156,
   "metadata": {},
   "outputs": [
    {
     "name": "stderr",
     "output_type": "stream",
     "text": [
      "<ipython-input-8-7c793c88cc47>:5: RuntimeWarning: overflow encountered in long_scalars\n",
      "  freq_of_one_1 = sum(array) / len(array) #gives probability of x = 1\n",
      "<ipython-input-8-7c793c88cc47>:15: RuntimeWarning: overflow encountered in long_scalars\n",
      "  freq_one, freq_zero = sum(col), len_data -sum(col)\n",
      "<ipython-input-8-7c793c88cc47>:49: RuntimeWarning: invalid value encountered in log2\n",
      "  ent_x_zero = -x_0_y_1*np.log2(x_0_y_1)-x_0_y_0*np.log2(x_0_y_0)\n",
      "<ipython-input-8-7c793c88cc47>:48: RuntimeWarning: invalid value encountered in log2\n",
      "  ent_x_one  = -x_1_y_1*np.log2(x_1_y_1)-x_1_y_0*np.log2(x_1_y_0)\n"
     ]
    },
    {
     "name": "stdout",
     "output_type": "stream",
     "text": [
      "avg irrelavant variables used are 0.6638297872340425\n"
     ]
    },
    {
     "data": {
      "text/plain": [
       "Text(0, 0.5, 'irr_var_count')"
      ]
     },
     "execution_count": 156,
     "metadata": {},
     "output_type": "execute_result"
    },
    {
     "data": {
      "image/png": "[encoded data removed]",
      "text/plain": [
       "<Figure size 432x288 with 1 Axes>"
      ]
     },
     "metadata": {
      "needs_background": "light"
     },
     "output_type": "display_data"
    }
   ],
   "source": [
    "def get_m_list_25(x,y):\n",
    "    m1 = list(range(10,100,10))\n",
    "    m2 = list(range(100,1000,100))\n",
    "    m3 = list(range(1000,30000,1000))\n",
    "    m_list = m1 + m2 + m3 \n",
    "    return m_list\n",
    "\n",
    "def avg_irr_var_per_m_d(iterations, depth, k=16):\n",
    "    m_list = get_m_list_25(100,10000)\n",
    "    irr_var_list = []\n",
    "    for m in m_list:\n",
    "        avg_c = []\n",
    "        for i in range(0,iterations):\n",
    "            train_data_set, train_labels = create_training_data_2(k,m)\n",
    "            \n",
    "            train_feature_vec = list(range(0,k))\n",
    "            node,_ = decision_tree_depth_prune(train_data_set,train_labels,train_feature_vec,depth)\n",
    "            _, irr_var = print_decision_tree_irr(node)\n",
    "            avg_c.append(len(list(set(irr_var))))\n",
    "#         print(\"irr \\n \",irr_var)\n",
    "        avg_count = sum(avg_c) / len(avg_c)\n",
    "        irr_var_list.append(avg_count)\n",
    "    return irr_var_list, m_list\n",
    "\n",
    "iterations = 5\n",
    "optimal_depth = 8\n",
    "irr_var_list, m_list= avg_irr_var_per_m_d(iterations,optimal_depth)\n",
    "avg_irr_var_used = sum(irr_var_list) / len(m_list)\n",
    "print(\"avg irrelavant variables used are\", avg_irr_var_used ) #Used decesion_tree_2 to get irrelevant variables\n",
    "#plotting the graph for all iterations\n",
    "plt.plot(m_list,irr_var_list)\n",
    "plt.xlabel(\"m-value\")\n",
    "plt.ylabel(\"irr_var_count\")\n"
   ]
  },
  {
   "cell_type": "code",
   "execution_count": null,
   "metadata": {},
   "outputs": [],
   "source": []
  },
  {
   "cell_type": "code",
   "execution_count": null,
   "metadata": {},
   "outputs": [],
   "source": []
  },
  {
   "cell_type": "markdown",
   "metadata": {},
   "source": [
    "Question 2.6.\n",
    "Itook threshold value as 20. \n",
    "As the datapoints increases , irrelevant variables decrease."
   ]
  },
  {
   "cell_type": "code",
   "execution_count": 166,
   "metadata": {},
   "outputs": [
    {
     "name": "stderr",
     "output_type": "stream",
     "text": [
      "<ipython-input-8-7c793c88cc47>:5: RuntimeWarning: overflow encountered in long_scalars\n",
      "  freq_of_one_1 = sum(array) / len(array) #gives probability of x = 1\n",
      "<ipython-input-8-7c793c88cc47>:15: RuntimeWarning: overflow encountered in long_scalars\n",
      "  freq_one, freq_zero = sum(col), len_data -sum(col)\n",
      "<ipython-input-8-7c793c88cc47>:49: RuntimeWarning: invalid value encountered in log2\n",
      "  ent_x_zero = -x_0_y_1*np.log2(x_0_y_1)-x_0_y_0*np.log2(x_0_y_0)\n"
     ]
    },
    {
     "name": "stdout",
     "output_type": "stream",
     "text": [
      "avg irrelavant variables used are 0.05172413793103448\n"
     ]
    },
    {
     "data": {
      "text/plain": [
       "Text(0, 0.5, 'irr_var_count')"
      ]
     },
     "execution_count": 166,
     "metadata": {},
     "output_type": "execute_result"
    },
    {
     "data": {
      "image/png": "[encoded data removed]",
      "text/plain": [
       "<Figure size 432x288 with 1 Axes>"
      ]
     },
     "metadata": {
      "needs_background": "light"
     },
     "output_type": "display_data"
    }
   ],
   "source": [
    "def get_m_list_26(x,y):\n",
    "    m1 = list(range(10,100,10))\n",
    "    m2 = list(range(100,5000,100))\n",
    "    m3 = [] #list(range(1000,30000,1000))\n",
    "    m_list = m1 + m2 + m3 \n",
    "    return m_list\n",
    "\n",
    "def avg_irr_var_per_m_ss(iterations, sampleSize,k=16):\n",
    "    m_list = get_m_list_26(100,10000)\n",
    "    irr_var_list = []\n",
    "    for m in m_list:\n",
    "        avg_c = []\n",
    "        for i in range(0,iterations):\n",
    "            train_data_set, train_labels = create_training_data_2(k,m)\n",
    "            \n",
    "            train_feature_vec = list(range(0,k))\n",
    "            node = decision_tree_sample_size(train_data_set, train_labels, list(range(0,16)),sampleSize)\n",
    "            _, irr_var = print_decision_tree_irr(node)\n",
    "            avg_c.append(len(list(set(irr_var))))\n",
    "#         print(\"irr \\n \",irr_var)\n",
    "        avg_count = sum(avg_c) / len(avg_c)\n",
    "        irr_var_list.append(avg_count)\n",
    "    return irr_var_list, m_list\n",
    "\n",
    "iterations = 2\n",
    "sampleSize = 20\n",
    "irr_var_list, m_list= avg_irr_var_per_m_ss(iterations,sampleSize)\n",
    "avg_irr_var_used = sum(irr_var_list) / len(m_list)\n",
    "print(\"avg irrelavant variables used are\", avg_irr_var_used ) #Used decesion_tree_2 to get irrelevant variables\n",
    "#plotting the graph for all iterations\n",
    "plt.plot(m_list,irr_var_list)\n",
    "plt.xlabel(\"m-value\")\n",
    "plt.ylabel(\"irr_var_count\")\n"
   ]
  }
 ],
 "metadata": {
  "kernelspec": {
   "display_name": "Python 3",
   "language": "python",
   "name": "python3"
  },
  "language_info": {
   "codemirror_mode": {
    "name": "ipython",
    "version": 3
   },
   "file_extension": ".py",
   "mimetype": "text/x-python",
   "name": "python",
   "nbconvert_exporter": "python",
   "pygments_lexer": "ipython3",
   "version": "3.8.5"
  }
 },
 "nbformat": 4,
 "nbformat_minor": 4
}
